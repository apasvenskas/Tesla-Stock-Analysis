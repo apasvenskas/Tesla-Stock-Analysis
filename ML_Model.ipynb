{
 "cells": [
  {
   "cell_type": "markdown",
   "id": "558f6074-ec86-4fe8-aba9-b011caf94d94",
   "metadata": {},
   "source": [
    "# Implimeting ML model into trade strategy"
   ]
  },
  {
   "cell_type": "code",
   "execution_count": null,
   "id": "2be989df-2a9a-4f63-acb1-ad1a2e4a6ce6",
   "metadata": {},
   "outputs": [],
   "source": []
  }
 ],
 "metadata": {
  "kernelspec": {
   "display_name": "Python 3 (ipykernel)",
   "language": "python",
   "name": "python3"
  },
  "language_info": {
   "codemirror_mode": {
    "name": "ipython",
    "version": 3
   },
   "file_extension": ".py",
   "mimetype": "text/x-python",
   "name": "python",
   "nbconvert_exporter": "python",
   "pygments_lexer": "ipython3",
   "version": "3.12.4"
  }
 },
 "nbformat": 4,
 "nbformat_minor": 5
}
