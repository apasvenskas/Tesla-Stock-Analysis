{
 "cells": [
  {
   "cell_type": "code",
   "execution_count": 1,
   "id": "72728639-3ea7-4073-abfc-1de502e14b9b",
   "metadata": {},
   "outputs": [],
   "source": [
    "import asyncio\n",
    "import os\n",
    "import pandas as pd\n",
    "import numpy as np\n",
    "from dotenv import load_dotenv\n",
    "from alpaca.data.live import StockDataStream\n",
    "from alpaca.trading.client import TradingClient\n",
    "from alpaca.trading.requests import MarketOrderRequest\n",
    "from alpaca.trading.enums import OrderSide, TimeInForce\n",
    "from alpaca.data.enums import DataFeed\n",
    "from alpaca.data.timeframe import TimeFrame\n",
    "import matplotlib.pyplot as plt\n",
    "from datetime import datetime\n",
    "from alpaca.data.historical import StockHistoricalDataClient\n",
    "from alpaca.data.requests import StockBarsRequest\n",
    "\n",
    "# Load environment variables\n",
    "load_dotenv()  # Load .env file\n",
    "\n",
    "API_KEY = os.getenv(\"ALPACA_API_KEY\")\n",
    "API_SECRET = os.getenv(\"ALPACA_SECRET_KEY\")\n",
    "\n",
    "# Initialize TradingClient\n",
    "Trading_Client = TradingClient(API_KEY, API_SECRET, paper=True)  # paper=True for paper trading\n",
    "data_client = StockHistoricalDataClient(API_KEY, API_SECRET)"
   ]
  },
  {
   "cell_type": "code",
   "execution_count": null,
   "id": "c9d32d8f-da86-4f77-9f56-d9ac43a622d4",
   "metadata": {},
   "outputs": [],
   "source": []
  }
 ],
 "metadata": {
  "kernelspec": {
   "display_name": "Python 3 (ipykernel)",
   "language": "python",
   "name": "python3"
  },
  "language_info": {
   "codemirror_mode": {
    "name": "ipython",
    "version": 3
   },
   "file_extension": ".py",
   "mimetype": "text/x-python",
   "name": "python",
   "nbconvert_exporter": "python",
   "pygments_lexer": "ipython3",
   "version": "3.12.4"
  }
 },
 "nbformat": 4,
 "nbformat_minor": 5
}
