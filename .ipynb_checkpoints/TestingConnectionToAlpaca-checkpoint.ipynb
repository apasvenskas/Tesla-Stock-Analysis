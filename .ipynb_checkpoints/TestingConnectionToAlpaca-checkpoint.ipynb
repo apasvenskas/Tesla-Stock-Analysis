{
 "cells": [
  {
   "cell_type": "markdown",
   "id": "5445fd5a-0c17-4cd6-99d9-553d62618aed",
   "metadata": {},
   "source": [
    "# Working with historic data from Alpaca"
   ]
  },
  {
   "cell_type": "code",
   "execution_count": 20,
   "id": "853ebce6-e333-45f1-a6f1-ad3e7e696648",
   "metadata": {},
   "outputs": [],
   "source": [
    "import asyncio\n",
    "import pandas as pd\n",
    "import matplotlib.pyplot as plt\n",
    "import os\n",
    "from dotenv import load_dotenv\n",
    "from alpaca.data.live import StockDataStream\n",
    "from alpaca.trading.client import TradingClient\n",
    "from alpaca.trading.requests import MarketOrderRequest\n",
    "from alpaca.trading.enums import OrderSide, TimeInForce\n",
    "from alpaca.data.enums import DataFeed\n",
    "from alpaca.data.historical import StockHistoricalDataClient\n",
    "\n",
    "# Load environment variables\n",
    "load_dotenv()  # Load .env file\n",
    "\n",
    "API_KEY = os.getenv(\"ALPACA_API_KEY\")\n",
    "API_SECRET = os.getenv(\"ALPACA_SECRET_KEY\")\n",
    "\n",
    "# Initialize TradingClient\n",
    "Trading_Client = TradingClient(API_KEY, API_SECRET, paper=True)  # paper=True for paper trading\n",
    "data_client = StockHistoricalDataClient(API_KEY, API_SECRET)\n"
   ]
  },
  {
   "cell_type": "code",
   "execution_count": 22,
   "id": "29357ab9-99db-484b-8a62-6f1278bdf46f",
   "metadata": {},
   "outputs": [],
   "source": [
    "from alpaca.data.requests import StockBarsRequest\n",
    "from alpaca.data.timeframe import TimeFrame\n",
    "from datetime import datetime\n",
    "\n",
    "# Define date range\n",
    "start_date = datetime(2024, 1, 1)\n",
    "end_date = datetime(2025, 1, 1)\n",
    "\n",
    "# --- Fetch Data ---\n",
    "# Request daily bars for TSLA\n",
    "request = StockBarsRequest(\n",
    "    symbol_or_symbols=\"TSLA\",\n",
    "    timeframe=TimeFrame.Day,  # Daily data (change to TimeFrame.Hour for hourly)\n",
    "    start=start_date,\n",
    "    end=end_date\n",
    ")\n",
    "\n",
    "bars = data_client.get_stock_bars(request)\n",
    "df = bars.df"
   ]
  },
  {
   "cell_type": "code",
   "execution_count": 24,
   "id": "641994be-7b5e-4520-b650-306299683e77",
   "metadata": {},
   "outputs": [],
   "source": [
    "# --- Clean & Prepare Data ---\n",
    "tesla = df[df.index.get_level_values(0) == 'TSLA'].copy()\n",
    "tesla.index = tesla.index.droplevel(0)\n",
    "tesla.index = tesla.index.tz_convert(\"America/New_York\")\n",
    "tesla = tesla.rename(columns={\n",
    "    \"open\": \"Open\", \"high\": \"High\", \"low\": \"Low\",\n",
    "    \"close\": \"Close\", \"volume\": \"Volume\"\n",
    "})\n",
    "tesla[\"Position\"] = \"None\"\n",
    "tesla[\"PnL\"] = 0.0"
   ]
  },
  {
   "cell_type": "code",
   "execution_count": 26,
   "id": "810d9fb7-3b2a-4d46-952d-b60635e751ca",
   "metadata": {},
   "outputs": [],
   "source": [
    "# --- 20-Day Average Volume Calculation ---\n",
    "tesla['Day'] = tesla.index.date\n",
    "daily_vol = tesla.groupby('Day')['Volume'].sum().rolling(20).mean()\n",
    "tesla['20D_Avg_Volume'] = tesla['Day'].map(daily_vol)"
   ]
  },
  {
   "cell_type": "code",
   "execution_count": 28,
   "id": "25acee39-26b3-46bc-aab7-64b4f132e4a6",
   "metadata": {},
   "outputs": [],
   "source": [
    "# --- Initialize ---\n",
    "grouped = tesla.groupby(tesla.index.date)\n",
    "trades = []"
   ]
  },
  {
   "cell_type": "code",
   "execution_count": 30,
   "id": "05106684-315b-4bb2-8182-896215361532",
   "metadata": {},
   "outputs": [],
   "source": [
    "# --- Strategy Execution ---\n",
    "stop_loss_pct = 0.027\n",
    "take_profit_pct = 0.05\n",
    "\n",
    "for date, group in grouped:\n",
    "    group = group.sort_index()\n",
    "    if len(group) < 20 or group['20D_Avg_Volume'].isna().all():\n",
    "        continue\n",
    "\n",
    "    opening_range = group.between_time(\"09:30\", \"10:00\")\n",
    "    after_opening = group.between_time(\"10:01\", \"16:00\")\n",
    "\n",
    "    if opening_range.empty or after_opening.empty:\n",
    "        continue\n",
    "\n",
    "    high_or = opening_range['High'].max()\n",
    "    low_or = opening_range['Low'].min()\n",
    "    or_range = high_or - low_or\n",
    "    or_pct = or_range / low_or\n",
    "\n",
    "    threshold = 0.02 if or_pct < 0.01 else 0.01\n",
    "    long_break_price = high_or * (1 + threshold)\n",
    "    short_break_price = low_or * (1 - threshold)\n",
    "\n",
    "    long_trade_done = short_trade_done = False\n",
    "\n",
    "    for i in range(len(after_opening)):\n",
    "        row = after_opening.iloc[i]\n",
    "        idx = after_opening.index[i]\n",
    "\n",
    "        avg_daily_volume = row['20D_Avg_Volume']\n",
    "        if pd.isna(avg_daily_volume):\n",
    "            continue\n",
    "\n",
    "        vol_threshold = 1.5 * avg_daily_volume / 78\n",
    "\n",
    "        # --- LONG TRADE ---\n",
    "        if not long_trade_done and row['High'] >= long_break_price and row['Volume'] > vol_threshold:\n",
    "            entry_price = row['Close']\n",
    "            stop_loss = entry_price * (1 - stop_loss_pct)\n",
    "            max_price = entry_price\n",
    "            tesla.at[idx, 'Position'] = 'Long'\n",
    "\n",
    "            for j in range(i + 1, len(after_opening)):\n",
    "                forward = after_opening.iloc[j]\n",
    "                max_price = max(max_price, forward['High'])\n",
    "\n",
    "                if forward['Low'] <= stop_loss:\n",
    "                    exit_price = stop_loss\n",
    "                    pnl = exit_price - entry_price\n",
    "                    trailing_stop = None\n",
    "                    break\n",
    "\n",
    "                trailing_stop = max_price * (1 - take_profit_pct)\n",
    "                if forward['Low'] <= trailing_stop:\n",
    "                    exit_price = trailing_stop\n",
    "                    pnl = exit_price - entry_price\n",
    "                    break\n",
    "            else:\n",
    "                exit_price = after_opening.iloc[-1]['Close']\n",
    "                pnl = exit_price - entry_price\n",
    "                trailing_stop = None\n",
    "\n",
    "            tesla.at[idx, 'PnL'] = pnl\n",
    "            trades.append({\n",
    "                'Date': idx.date(), 'Entry': entry_price, 'Exit': exit_price,\n",
    "                'PnL': pnl, 'Position': 'Long', 'Stop_Loss': stop_loss,\n",
    "                'Max_High': max_price, 'Min_Low': None,\n",
    "                'Trailing_Stop': trailing_stop, 'Breakout_Ref': high_or,\n",
    "                'Volume_At_Entry': row['Volume']\n",
    "            })\n",
    "            long_trade_done = True\n",
    "\n",
    "        # --- SHORT TRADE ---\n",
    "        elif not short_trade_done and row['Low'] <= short_break_price and row['Volume'] > vol_threshold:\n",
    "            entry_price = row['Close']\n",
    "            stop_loss = entry_price * (1 + stop_loss_pct)\n",
    "            min_price = entry_price\n",
    "            tesla.at[idx, 'Position'] = 'Short'\n",
    "\n",
    "            for j in range(i + 1, len(after_opening)):\n",
    "                forward = after_opening.iloc[j]\n",
    "                min_price = min(min_price, forward['Low'])\n",
    "\n",
    "                if forward['High'] >= stop_loss:\n",
    "                    exit_price = stop_loss\n",
    "                    pnl = entry_price - exit_price\n",
    "                    trailing_stop = None\n",
    "                    break\n",
    "\n",
    "                trailing_stop = min_price * (1 + take_profit_pct)\n",
    "                if forward['High'] >= trailing_stop:\n",
    "                    exit_price = trailing_stop\n",
    "                    pnl = entry_price - exit_price\n",
    "                    break\n",
    "            else:\n",
    "                exit_price = after_opening.iloc[-1]['Close']\n",
    "                pnl = entry_price - exit_price\n",
    "                trailing_stop = None\n",
    "\n",
    "            tesla.at[idx, 'PnL'] = pnl\n",
    "            trades.append({\n",
    "                'Date': idx.date(), 'Entry': entry_price, 'Exit': exit_price,\n",
    "                'PnL': pnl, 'Position': 'Short', 'Stop_Loss': stop_loss,\n",
    "                'Max_High': None, 'Min_Low': min_price,\n",
    "                'Trailing_Stop': trailing_stop, 'Breakout_Ref': low_or,\n",
    "                'Volume_At_Entry': row['Volume']\n",
    "            })\n",
    "            short_trade_done = True\n",
    "\n",
    "        if long_trade_done and short_trade_done:\n",
    "            break"
   ]
  },
  {
   "cell_type": "code",
   "execution_count": 32,
   "id": "8b079e2a-6ef6-4c3e-97a8-d4a77b2596ab",
   "metadata": {},
   "outputs": [
    {
     "name": "stdout",
     "output_type": "stream",
     "text": [
      "Empty DataFrame\n",
      "Columns: []\n",
      "Index: []\n",
      "\n",
      "--- Trade Summary ---\n",
      "Total Trades: 0\n"
     ]
    },
    {
     "ename": "KeyError",
     "evalue": "'PnL'",
     "output_type": "error",
     "traceback": [
      "\u001b[1;31m---------------------------------------------------------------------------\u001b[0m",
      "\u001b[1;31mKeyError\u001b[0m                                  Traceback (most recent call last)",
      "Cell \u001b[1;32mIn[32], line 10\u001b[0m\n\u001b[0;32m      8\u001b[0m \u001b[38;5;28mprint\u001b[39m(\u001b[38;5;124m\"\u001b[39m\u001b[38;5;130;01m\\n\u001b[39;00m\u001b[38;5;124m--- Trade Summary ---\u001b[39m\u001b[38;5;124m\"\u001b[39m)\n\u001b[0;32m      9\u001b[0m \u001b[38;5;28mprint\u001b[39m(\u001b[38;5;124mf\u001b[39m\u001b[38;5;124m\"\u001b[39m\u001b[38;5;124mTotal Trades: \u001b[39m\u001b[38;5;132;01m{\u001b[39;00m\u001b[38;5;28mlen\u001b[39m(trades_df)\u001b[38;5;132;01m}\u001b[39;00m\u001b[38;5;124m\"\u001b[39m)\n\u001b[1;32m---> 10\u001b[0m \u001b[38;5;28mprint\u001b[39m(\u001b[38;5;124mf\u001b[39m\u001b[38;5;124m\"\u001b[39m\u001b[38;5;124mWinning %: \u001b[39m\u001b[38;5;132;01m{\u001b[39;00m\u001b[38;5;241m100\u001b[39m\u001b[38;5;250m \u001b[39m\u001b[38;5;241m*\u001b[39m\u001b[38;5;250m \u001b[39m(trades_df[\u001b[38;5;124m'\u001b[39m\u001b[38;5;124mPnL\u001b[39m\u001b[38;5;124m'\u001b[39m]\u001b[38;5;250m \u001b[39m\u001b[38;5;241m>\u001b[39m\u001b[38;5;250m \u001b[39m\u001b[38;5;241m0\u001b[39m)\u001b[38;5;241m.\u001b[39mmean()\u001b[38;5;132;01m:\u001b[39;00m\u001b[38;5;124m.2f\u001b[39m\u001b[38;5;132;01m}\u001b[39;00m\u001b[38;5;124m%\u001b[39m\u001b[38;5;124m\"\u001b[39m)\n\u001b[0;32m     11\u001b[0m \u001b[38;5;28mprint\u001b[39m(\u001b[38;5;124mf\u001b[39m\u001b[38;5;124m\"\u001b[39m\u001b[38;5;124mTotal PnL: $\u001b[39m\u001b[38;5;132;01m{\u001b[39;00mtrades_df[\u001b[38;5;124m'\u001b[39m\u001b[38;5;124mPnL\u001b[39m\u001b[38;5;124m'\u001b[39m]\u001b[38;5;241m.\u001b[39msum()\u001b[38;5;132;01m:\u001b[39;00m\u001b[38;5;124m.2f\u001b[39m\u001b[38;5;132;01m}\u001b[39;00m\u001b[38;5;124m\"\u001b[39m)\n\u001b[0;32m     12\u001b[0m \u001b[38;5;28mprint\u001b[39m(\u001b[38;5;124mf\u001b[39m\u001b[38;5;124m\"\u001b[39m\u001b[38;5;124mAverage PnL: $\u001b[39m\u001b[38;5;132;01m{\u001b[39;00mtrades_df[\u001b[38;5;124m'\u001b[39m\u001b[38;5;124mPnL\u001b[39m\u001b[38;5;124m'\u001b[39m]\u001b[38;5;241m.\u001b[39mmean()\u001b[38;5;132;01m:\u001b[39;00m\u001b[38;5;124m.2f\u001b[39m\u001b[38;5;132;01m}\u001b[39;00m\u001b[38;5;124m\"\u001b[39m)\n",
      "File \u001b[1;32m~\\anaconda3\\Lib\\site-packages\\pandas\\core\\frame.py:4102\u001b[0m, in \u001b[0;36mDataFrame.__getitem__\u001b[1;34m(self, key)\u001b[0m\n\u001b[0;32m   4100\u001b[0m \u001b[38;5;28;01mif\u001b[39;00m \u001b[38;5;28mself\u001b[39m\u001b[38;5;241m.\u001b[39mcolumns\u001b[38;5;241m.\u001b[39mnlevels \u001b[38;5;241m>\u001b[39m \u001b[38;5;241m1\u001b[39m:\n\u001b[0;32m   4101\u001b[0m     \u001b[38;5;28;01mreturn\u001b[39;00m \u001b[38;5;28mself\u001b[39m\u001b[38;5;241m.\u001b[39m_getitem_multilevel(key)\n\u001b[1;32m-> 4102\u001b[0m indexer \u001b[38;5;241m=\u001b[39m \u001b[38;5;28mself\u001b[39m\u001b[38;5;241m.\u001b[39mcolumns\u001b[38;5;241m.\u001b[39mget_loc(key)\n\u001b[0;32m   4103\u001b[0m \u001b[38;5;28;01mif\u001b[39;00m is_integer(indexer):\n\u001b[0;32m   4104\u001b[0m     indexer \u001b[38;5;241m=\u001b[39m [indexer]\n",
      "File \u001b[1;32m~\\anaconda3\\Lib\\site-packages\\pandas\\core\\indexes\\range.py:417\u001b[0m, in \u001b[0;36mRangeIndex.get_loc\u001b[1;34m(self, key)\u001b[0m\n\u001b[0;32m    415\u001b[0m         \u001b[38;5;28;01mraise\u001b[39;00m \u001b[38;5;167;01mKeyError\u001b[39;00m(key) \u001b[38;5;28;01mfrom\u001b[39;00m \u001b[38;5;21;01merr\u001b[39;00m\n\u001b[0;32m    416\u001b[0m \u001b[38;5;28;01mif\u001b[39;00m \u001b[38;5;28misinstance\u001b[39m(key, Hashable):\n\u001b[1;32m--> 417\u001b[0m     \u001b[38;5;28;01mraise\u001b[39;00m \u001b[38;5;167;01mKeyError\u001b[39;00m(key)\n\u001b[0;32m    418\u001b[0m \u001b[38;5;28mself\u001b[39m\u001b[38;5;241m.\u001b[39m_check_indexing_error(key)\n\u001b[0;32m    419\u001b[0m \u001b[38;5;28;01mraise\u001b[39;00m \u001b[38;5;167;01mKeyError\u001b[39;00m(key)\n",
      "\u001b[1;31mKeyError\u001b[0m: 'PnL'"
     ]
    }
   ],
   "source": [
    "# --- Metrics and Visualization ---\n",
    "tesla['ReturnPctTrade'] = tesla['PnL'] / tesla['Open'] * 100\n",
    "tesla['Cumulative_PnL'] = tesla['PnL'].cumsum()\n",
    "\n",
    "trades_df = pd.DataFrame(trades)\n",
    "print(trades_df.head())\n",
    "\n",
    "print(\"\\n--- Trade Summary ---\")\n",
    "print(f\"Total Trades: {len(trades_df)}\")\n",
    "print(f\"Winning %: {100 * (trades_df['PnL'] > 0).mean():.2f}%\")\n",
    "print(f\"Total PnL: ${trades_df['PnL'].sum():.2f}\")\n",
    "print(f\"Average PnL: ${trades_df['PnL'].mean():.2f}\")"
   ]
  },
  {
   "cell_type": "code",
   "execution_count": 34,
   "id": "34eb2902-15d2-47b8-bedf-973c0377d38a",
   "metadata": {},
   "outputs": [
    {
     "ename": "NameError",
     "evalue": "name 'plt' is not defined",
     "output_type": "error",
     "traceback": [
      "\u001b[1;31m---------------------------------------------------------------------------\u001b[0m",
      "\u001b[1;31mNameError\u001b[0m                                 Traceback (most recent call last)",
      "Cell \u001b[1;32mIn[34], line 2\u001b[0m\n\u001b[0;32m      1\u001b[0m \u001b[38;5;66;03m# --- Plot ---\u001b[39;00m\n\u001b[1;32m----> 2\u001b[0m plt\u001b[38;5;241m.\u001b[39mfigure(figsize\u001b[38;5;241m=\u001b[39m(\u001b[38;5;241m12\u001b[39m, \u001b[38;5;241m6\u001b[39m))\n\u001b[0;32m      3\u001b[0m tesla[\u001b[38;5;124m'\u001b[39m\u001b[38;5;124mCumulative_PnL\u001b[39m\u001b[38;5;124m'\u001b[39m]\u001b[38;5;241m.\u001b[39mplot(title\u001b[38;5;241m=\u001b[39m\u001b[38;5;124m'\u001b[39m\u001b[38;5;124mCumulative PnL for Breakout Strategy\u001b[39m\u001b[38;5;124m'\u001b[39m)\n\u001b[0;32m      4\u001b[0m plt\u001b[38;5;241m.\u001b[39mxlabel(\u001b[38;5;124m\"\u001b[39m\u001b[38;5;124mTime\u001b[39m\u001b[38;5;124m\"\u001b[39m)\n",
      "\u001b[1;31mNameError\u001b[0m: name 'plt' is not defined"
     ]
    }
   ],
   "source": [
    "# --- Plot ---\n",
    "plt.figure(figsize=(12, 6))\n",
    "tesla['Cumulative_PnL'].plot(title='Cumulative PnL for Breakout Strategy')\n",
    "plt.xlabel(\"Time\")\n",
    "plt.ylabel(\"PnL ($)\")\n",
    "plt.grid(True)\n",
    "plt.show()"
   ]
  },
  {
   "cell_type": "code",
   "execution_count": null,
   "id": "57ee7a9b-e0ec-48c1-ac9f-e91f1cea5a3d",
   "metadata": {},
   "outputs": [],
   "source": []
  }
 ],
 "metadata": {
  "kernelspec": {
   "display_name": "Python 3 (ipykernel)",
   "language": "python",
   "name": "python3"
  },
  "language_info": {
   "codemirror_mode": {
    "name": "ipython",
    "version": 3
   },
   "file_extension": ".py",
   "mimetype": "text/x-python",
   "name": "python",
   "nbconvert_exporter": "python",
   "pygments_lexer": "ipython3",
   "version": "3.12.4"
  }
 },
 "nbformat": 4,
 "nbformat_minor": 5
}
